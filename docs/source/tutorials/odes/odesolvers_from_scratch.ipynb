{
 "cells": [
  {
   "cell_type": "markdown",
   "metadata": {},
   "source": [
    "# ODE-Solvers from Scratch\n",
    "\n",
    "All the other tutorials show how to use the ODE-solver with the `probsolve_ivp` function.\n",
    "This is great, though `probnum` has more customisation to offer."
   ]
  },
  {
   "cell_type": "code",
   "execution_count": 1,
   "metadata": {},
   "outputs": [],
   "source": [
    "from probnum import diffeq, filtsmooth, statespace, randvars\n",
    "import numpy as np\n",
    "\n",
    "import matplotlib.pyplot as plt\n",
    "plt.style.use(\"../../probnum.mplstyle\")"
   ]
  },
  {
   "cell_type": "markdown",
   "metadata": {},
   "source": [
    "First we define the ODE problem. As always, we use Lotka-Volterra. Once the ODE functions are defined, they are gathered in an `IVP` object."
   ]
  },
  {
   "cell_type": "code",
   "execution_count": 2,
   "metadata": {},
   "outputs": [],
   "source": [
    "\n",
    "def f(t, y):\n",
    "    y1, y2 = y\n",
    "    return np.array([0.5 * y1 - 0.05 * y1 * y2, -0.5 * y2 + 0.05 * y1 * y2])\n",
    "\n",
    "def df(t, y):\n",
    "    y1, y2 = y\n",
    "    return np.array([[0.5 - 0.05 * y2, -0.05 * y1], [0.05 * y2, -0.5 + 0.05 * y1]])\n",
    "\n",
    "t0 = 0.\n",
    "tmax = 15.\n",
    "y0 = np.array([20, 20])\n",
    "\n",
    "ivp = diffeq.IVP((t0, tmax), initrv=randvars.Constant(y0), rhs=f, jac=df)\n"
   ]
  },
  {
   "cell_type": "markdown",
   "metadata": {},
   "source": [
    "Next, we define a prior distribution and a measurement model. The former can be any `Integrator`, which currently restricts the choice to `IBM`, `IOUP`, and `Matern`. We usually recommend `IBM`.\n",
    "The measurement model requires a choice between EK0, EK1 (extended Kalman filters of order 0 or 1, respectively) and perhaps UK (unscented Kalman filter). The use of the latter is discouraged, because the square-root implementation is not available currently.\n",
    "\n",
    "The measurement model can either be constructed with `DiscreteEKFComponent.from_ode` or, perhaps more conveniently, with `GaussianIVPFilter.string_to_measurement_model`.  "
   ]
  },
  {
   "cell_type": "code",
   "execution_count": 3,
   "metadata": {},
   "outputs": [],
   "source": [
    "prior = statespace.IBM(ordint=4, spatialdim=ivp.dimension, forward_implementation=\"sqrt\", backward_implementation=\"sqrt\")\n",
    "ekf = diffeq.GaussianIVPFilter.string_to_measurement_model(\"EK1\", ivp=ivp, dynamics_model=prior)\n"
   ]
  },
  {
   "cell_type": "markdown",
   "metadata": {},
   "source": [
    "Next, we construct the ODE filter. One choice that has not been made yet is the initialiation strategy. The current default choice is to initialise by fitting the prior to a few steps of a Runge-Kutta solution. An alternative is to use automatic differentiation, which is currently in development.\n",
    "An easy-access version of those initialisation strategies is to use the constructor `GaussianIVPFilter.construct_with_rk_init`. "
   ]
  },
  {
   "cell_type": "code",
   "execution_count": 4,
   "metadata": {},
   "outputs": [
    {
     "ename": "AttributeError",
     "evalue": "module 'probnum.diffeq' has no attribute 'PiecewiseConstantDiffusion'",
     "output_type": "error",
     "traceback": [
      "\u001b[0;31m---------------------------------------------------------------------------\u001b[0m",
      "\u001b[0;31mAttributeError\u001b[0m                            Traceback (most recent call last)",
      "\u001b[0;32m<ipython-input-4-78c7007c9d8c>\u001b[0m in \u001b[0;36m<module>\u001b[0;34m\u001b[0m\n\u001b[0;32m----> 1\u001b[0;31m \u001b[0mdiffmodel\u001b[0m \u001b[0;34m=\u001b[0m\u001b[0mdiffeq\u001b[0m\u001b[0;34m.\u001b[0m\u001b[0mPiecewiseConstantDiffusion\u001b[0m\u001b[0;34m(\u001b[0m\u001b[0;34m)\u001b[0m\u001b[0;34m\u001b[0m\u001b[0;34m\u001b[0m\u001b[0m\n\u001b[0m\u001b[1;32m      2\u001b[0m \u001b[0msolver\u001b[0m \u001b[0;34m=\u001b[0m \u001b[0mdiffeq\u001b[0m\u001b[0;34m.\u001b[0m\u001b[0mGaussianIVPFilter\u001b[0m\u001b[0;34m.\u001b[0m\u001b[0mconstruct_with_rk_init\u001b[0m\u001b[0;34m(\u001b[0m\u001b[0mivp\u001b[0m\u001b[0;34m,\u001b[0m \u001b[0mdynamics_model\u001b[0m\u001b[0;34m=\u001b[0m\u001b[0mprior\u001b[0m\u001b[0;34m,\u001b[0m \u001b[0mmeasurement_model\u001b[0m\u001b[0;34m=\u001b[0m\u001b[0mekf\u001b[0m\u001b[0;34m,\u001b[0m \u001b[0mdiffusion_model\u001b[0m\u001b[0;34m=\u001b[0m\u001b[0mdiffmodel\u001b[0m\u001b[0;34m,\u001b[0m \u001b[0mwith_smoothing\u001b[0m\u001b[0;34m=\u001b[0m\u001b[0;32mTrue\u001b[0m\u001b[0;34m)\u001b[0m\u001b[0;34m\u001b[0m\u001b[0;34m\u001b[0m\u001b[0m\n",
      "\u001b[0;31mAttributeError\u001b[0m: module 'probnum.diffeq' has no attribute 'PiecewiseConstantDiffusion'"
     ]
    }
   ],
   "source": [
    "diffmodel =diffeq.PiecewiseConstantDiffusion()\n",
    "solver = diffeq.GaussianIVPFilter.construct_with_rk_init(ivp, dynamics_model=prior, measurement_model=ekf, diffusion_model=diffmodel, with_smoothing=True)\n"
   ]
  },
  {
   "cell_type": "markdown",
   "metadata": {},
   "source": [
    "Now we can solve the ODE. To this end, define a `StepRule`, e.g. `ConstantSteps` or `AdaptiveSteps`. If you don't know which firststep to use, the function `propose_firststep` makes an educated guess for you."
   ]
  },
  {
   "cell_type": "code",
   "execution_count": null,
   "metadata": {},
   "outputs": [],
   "source": [
    "firststep = diffeq.propose_firststep(ivp)\n",
    "steprule = diffeq.AdaptiveSteps(firststep=firststep, atol=1e-3, rtol=1e-5)\n",
    "# steprule = diffeq.ConstantSteps(0.1)\n",
    "odesol = solver.solve(steprule=steprule)"
   ]
  },
  {
   "cell_type": "markdown",
   "metadata": {},
   "source": [
    "`GaussianIVPFilter.solve` returns an `ODESolution` object, which is sliceable and callable. The latter can be used to plot the solution on a uniform grid, even though the solution was computed on an adaptive grid. Be careful: the return values of `__call__`, etc., are always random variable-like objects. We decide to plot the mean."
   ]
  },
  {
   "cell_type": "code",
   "execution_count": null,
   "metadata": {},
   "outputs": [],
   "source": [
    "evalgrid = np.arange(ivp.t0, ivp.tmax, step=0.1)\n"
   ]
  },
  {
   "cell_type": "markdown",
   "metadata": {},
   "source": [
    "Done! This is the solution to the Lotka-Volterra model."
   ]
  },
  {
   "cell_type": "code",
   "execution_count": null,
   "metadata": {
    "tags": [
     "nbsphinx-thumbnail"
    ]
   },
   "outputs": [],
   "source": [
    "sol = odesol(evalgrid)\n",
    "\n",
    "plt.plot(evalgrid, sol.mean, \"o-\", linewidth=1)\n",
    "plt.ylim((0, 30))\n",
    "plt.show()"
   ]
  },
  {
   "cell_type": "code",
   "execution_count": null,
   "metadata": {},
   "outputs": [],
   "source": []
  },
  {
   "cell_type": "code",
   "execution_count": null,
   "metadata": {},
   "outputs": [],
   "source": []
  },
  {
   "cell_type": "code",
   "execution_count": null,
   "metadata": {},
   "outputs": [],
   "source": []
  }
 ],
 "metadata": {
  "kernelspec": {
   "display_name": "Python 3",
   "language": "python",
   "name": "python3"
  },
  "language_info": {
   "codemirror_mode": {
    "name": "ipython",
    "version": 3
   },
   "file_extension": ".py",
   "mimetype": "text/x-python",
   "name": "python",
   "nbconvert_exporter": "python",
   "pygments_lexer": "ipython3",
   "version": "3.8.5"
  }
 },
 "nbformat": 4,
 "nbformat_minor": 4
}
