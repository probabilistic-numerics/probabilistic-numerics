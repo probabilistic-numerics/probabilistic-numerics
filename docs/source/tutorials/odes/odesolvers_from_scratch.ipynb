{
 "cells": [
  {
   "cell_type": "markdown",
   "metadata": {},
   "source": [
    "# ODE-Solvers from Scratch\n",
    "\n",
    "All the other tutorials show how to use the ODE-solver with the `probsolve_ivp` function.\n",
    "This is great, though `probnum` has more customisation to offer."
   ]
  },
  {
   "cell_type": "code",
   "execution_count": 1,
   "metadata": {},
   "outputs": [],
   "source": [
    "import probnum.diffeq as pnd\n",
    "import probnum.filtsmooth as pnfs\n",
    "import probnum.random_variables as pnrv\n",
    "import numpy as np\n",
    "\n",
    "import matplotlib.pyplot as plt\n",
    "plt.style.use(\"../../probnum.mplstyle\")"
   ]
  },
  {
   "cell_type": "markdown",
   "metadata": {},
   "source": [
    "First we define the ODE problem. As always, we use Lotka-Volterra. It is important that `initrv` is an actual random variable. Arrays can be wrapped with `probnum.random_variables.Constant`. "
   ]
  },
  {
   "cell_type": "code",
   "execution_count": 2,
   "metadata": {},
   "outputs": [],
   "source": [
    "ivp = pnd.lotkavolterra([0.0, 20.0], initrv=pnrv.Constant(np.array([20.0, 20.0])))"
   ]
  },
  {
   "cell_type": "markdown",
   "metadata": {},
   "source": [
    "Next, we define a prior distribution and a measurement model. The former allows any `Integrator`, which currently restricts the choice to `IBM`, `IOUP`, and `Matern`. \n",
    "The measurement model requires a choice between EK0, EK1 (extended Kalman filters of order 0 or 1, respectively) and UK (unscented Kalman filter). \n",
    "After this choice is made, each of those classes offer a constructor that defines the model directly from the initial value problem, e.g. `DiscreteUKFComponent.from_ode(ivp, prior, evlvar)`. `evlvar` is usually zero. The prior is the `Integrator` chosen above.  "
   ]
  },
  {
   "cell_type": "code",
   "execution_count": 3,
   "metadata": {},
   "outputs": [],
   "source": [
    "prior = pnfs.statespace.IBM(ordint=2, spatialdim=ivp.dimension,  forward_implementation=\"sqrt\", backward_implementation=\"sqrt\")\n",
    "ekf = pnfs.DiscreteEKFComponent.from_ode(ivp, prior, np.zeros((2, 2)), ek0_or_ek1=1, forward_implementation=\"classic\", backward_implementation=\"classic\")"
   ]
  },
  {
   "cell_type": "markdown",
   "metadata": {},
   "source": [
    "Next, we turn this into a `Kalman` object which will do all the heavy lifting for the ODE solver. To this end, we need to define an initial distribution. In `probsolve_ivp`, this is automatised by using as many derivatives as the `IVP` object allows (max. 2). \n",
    "\n",
    "This time, assume that some bird told us about the real derivatives of the initial values (*stay tuned for more on this*). This can be used to define a more robust ODE solver."
   ]
  },
  {
   "cell_type": "code",
   "execution_count": 4,
   "metadata": {},
   "outputs": [],
   "source": [
    "initial_values = np.array(\n",
    "    [\n",
    "        20.0,\n",
    "        -10.0,\n",
    "        -5.0,\n",
    "        17.5,\n",
    "        8.75,\n",
    "        20.0,\n",
    "#         10.0,\n",
    "#         -5.0,\n",
    "#         -17.5,\n",
    "#         8.75,\n",
    "    ]\n",
    ")\n",
    "initrv = pnrv.Normal(\n",
    "    initial_values, np.zeros((len(initial_values), len(initial_values))), cov_cholesky=np.zeros((len(initial_values), len(initial_values)))\n",
    ")\n",
    "kalman = pnfs.Kalman(prior, ekf, initrv)"
   ]
  },
  {
   "cell_type": "code",
   "execution_count": 5,
   "metadata": {},
   "outputs": [],
   "source": [
    "solver = pnd.GaussianIVPFilter(ivp, kalman, with_smoothing=True)"
   ]
  },
  {
   "cell_type": "markdown",
   "metadata": {},
   "source": [
    "Now we can solve the ODE. To this end, define a `StepRule`, e.g. `ConstantSteps` or `AdaptiveSteps`. "
   ]
  },
  {
   "cell_type": "code",
   "execution_count": 6,
   "metadata": {},
   "outputs": [],
   "source": [
    "steprule = pnd.ConstantSteps(7.5e-1)\n",
    "odesol = solver.solve(steprule=steprule)"
   ]
  },
  {
   "cell_type": "markdown",
   "metadata": {},
   "source": [
    "`GaussianIVPFilter.solve` returns an `ODESolution` object, which is sliceable and callable. The latter can be used to plot the solution on a uniform grid, even though the solution was computed on an adaptive grid. Be careful: the return values of `__call__`, etc., are always random variable-like objects. We decide to plot the mean."
   ]
  },
  {
   "cell_type": "code",
   "execution_count": 7,
   "metadata": {},
   "outputs": [
    {
     "name": "stdout",
     "output_type": "stream",
     "text": [
      "[0.         0.06640197 0.29643335 0.46612355 0.44604791 0.40734193\n",
      " 0.37880925 0.35427838 0.32904761 0.30386106 0.28283879 0.26723984\n",
      " 0.25469713 0.24383433 0.23412021 0.22406084 0.21294395 0.20204568\n",
      " 0.19254033 0.18363985 0.17469454 0.16674982 0.15948773 0.15194632\n",
      " 0.14455328 0.1381638  0.13236328 0.12661524 0.12140031 0.11713771\n",
      " 0.11300507 0.10891951 0.10563147 0.10318522 0.10055747 0.09813498\n",
      " 0.09669526 0.09583498 0.09469121 0.0939913  0.09442488 0.09517639\n",
      " 0.09581774 0.09720458 0.09981032 0.1027004  0.10591348 0.11027461\n",
      " 0.1160793  0.12261316 0.13016125 0.13955919 0.15109541 0.164172\n",
      " 0.17900815 0.19679438 0.21788249 0.24148544 0.26820969 0.29885281\n",
      " 0.33219748 0.36665349 0.40224684 0.43553797 0.45637702 0.45435696\n",
      " 0.43108363 0.395231   0.35933875 0.33613707 0.33775238 0.36591767\n",
      " 0.40659708 0.44424154 0.47130493 0.48511206 0.4866588  0.47895484\n",
      " 0.46468788 0.44589723 0.42436156 0.40091093 0.37560825 0.34836523\n",
      " 0.32049486 0.29374509 0.26851777 0.2443339  0.22175861 0.20116604\n",
      " 0.18180816 0.1636664  0.14745147 0.13334006 0.12059134 0.10943218\n",
      " 0.10043773 0.09317249 0.08677643 0.08198438]\n"
     ]
    }
   ],
   "source": [
    "evalgrid = np.arange(ivp.t0, ivp.tmax, step=0.2)\n",
    "sol = odesol(evalgrid)\n",
    "\n",
    "\n",
    "y = sol.mean[:, 1]\n",
    "s = sol.std[:, 1]\n",
    "\n",
    "print(s)"
   ]
  },
  {
   "cell_type": "code",
   "execution_count": 8,
   "metadata": {},
   "outputs": [],
   "source": [
    "samples = odesol.sample(evalgrid, size=10)\n"
   ]
  },
  {
   "cell_type": "code",
   "execution_count": 11,
   "metadata": {},
   "outputs": [
    {
     "name": "stdout",
     "output_type": "stream",
     "text": [
      "[[ 0.00000000e+00  0.00000000e+00]\n",
      " [-8.57864630e-04  4.79487909e-05]\n",
      " [-3.68066843e-04 -3.07778360e-03]\n",
      " [ 9.81991964e-04 -4.99578182e-05]\n",
      " [-4.66709078e-03 -8.29832580e-04]\n",
      " [ 6.61694363e-04 -1.74104024e-03]\n",
      " [-2.03746025e-03  8.71717284e-03]\n",
      " [ 1.35388368e-03 -5.82018350e-03]\n",
      " [ 2.77451164e-03 -3.88711817e-03]\n",
      " [-7.71394309e-03  7.64169109e-03]\n",
      " [-7.45939887e-03 -2.17293799e-03]\n",
      " [ 7.93049827e-03 -1.67285673e-03]\n",
      " [-4.75349004e-03  2.98404819e-03]\n",
      " [-4.58421634e-05 -4.14866619e-03]\n",
      " [ 5.54693644e-04 -6.54531804e-03]\n",
      " [-8.14259740e-04  3.49646359e-04]\n",
      " [ 3.05295417e-03  1.84536463e-03]\n",
      " [ 3.45716713e-03  1.72499945e-04]\n",
      " [ 7.27804616e-03  2.84225016e-03]\n",
      " [ 5.05661144e-03  4.87558632e-03]\n",
      " [ 2.19796695e-03  5.37521341e-03]\n",
      " [-3.95203851e-03 -1.43825554e-04]\n",
      " [-3.49599905e-03  1.07283306e-02]\n",
      " [-2.37660693e-03 -2.76379264e-03]\n",
      " [ 1.10128100e-04 -2.05537272e-04]\n",
      " [-1.82070839e-03 -8.95623835e-03]\n",
      " [ 4.57369134e-03  1.32187949e-02]\n",
      " [ 2.32044864e-03  3.64096590e-03]\n",
      " [-5.23625386e-03 -4.18041978e-03]\n",
      " [-2.90356045e-04 -1.40936929e-03]\n",
      " [-1.47069648e-04  9.20077347e-04]\n",
      " [-3.25310777e-03  1.97118524e-04]\n",
      " [-5.38731584e-03  5.87367390e-03]\n",
      " [-5.22468408e-03  6.92950696e-04]\n",
      " [-1.07399103e-03 -2.30450304e-03]\n",
      " [ 3.88096053e-03 -2.23026953e-03]\n",
      " [ 3.44665741e-04  3.41842954e-03]\n",
      " [-2.45072522e-04  4.86561528e-03]\n",
      " [ 1.61429620e-03 -3.16397943e-03]\n",
      " [ 2.85580075e-04  5.21614626e-03]\n",
      " [-5.86199348e-04  1.20127692e-03]\n",
      " [-5.46720499e-03  4.01862914e-03]\n",
      " [ 3.48453612e-03  4.85273649e-04]\n",
      " [ 3.73757874e-03  2.71979345e-03]\n",
      " [ 9.60426025e-04  7.88611367e-03]\n",
      " [-3.48435329e-04 -3.02493697e-03]\n",
      " [-6.49531300e-04  1.84374532e-03]\n",
      " [ 2.30182977e-03  1.13942924e-03]\n",
      " [ 5.78083517e-03  6.55945260e-03]\n",
      " [-3.49965227e-04 -5.29155205e-05]\n",
      " [ 9.94943808e-04 -2.64777819e-03]\n",
      " [-2.01160442e-03  1.24060259e-03]\n",
      " [ 9.43316600e-03 -1.32399147e-03]\n",
      " [-5.87402895e-04  1.82550462e-03]\n",
      " [-7.93096737e-05 -1.13228145e-03]\n",
      " [-3.43800509e-03  3.07630881e-03]\n",
      " [ 1.11148246e-03 -3.27076673e-03]\n",
      " [-5.32757858e-03  2.61381112e-03]\n",
      " [-1.82270733e-03 -2.86008482e-04]\n",
      " [ 6.26428725e-03  6.99880501e-03]\n",
      " [ 7.33653230e-04  2.50865033e-03]\n",
      " [-4.58815950e-03 -2.81650396e-03]\n",
      " [-6.55086216e-03  6.23382486e-03]\n",
      " [-3.73754887e-03 -6.61058352e-03]\n",
      " [ 8.14386041e-04  2.03489218e-03]\n",
      " [ 8.07863379e-04 -2.17918765e-03]\n",
      " [-6.16664991e-05 -2.01778026e-03]\n",
      " [ 1.46487383e-03  7.49617804e-05]\n",
      " [-2.54602429e-03 -3.01967044e-04]\n",
      " [ 4.31367543e-03 -1.28465405e-03]\n",
      " [ 1.47340754e-03 -3.58294234e-03]\n",
      " [ 3.63938302e-03  1.48982436e-03]\n",
      " [-1.67902931e-04  1.06239260e-03]\n",
      " [-5.85917987e-03 -4.42288342e-03]\n",
      " [ 4.47348847e-03 -6.84415504e-03]\n",
      " [-3.80525697e-04 -8.04203562e-04]\n",
      " [-2.03612570e-03 -1.84787748e-03]\n",
      " [-8.05803305e-03 -3.25942328e-03]\n",
      " [ 5.52107130e-03 -1.55197827e-04]\n",
      " [-2.09220320e-03  7.20069502e-04]\n",
      " [-1.41960696e-03  4.01521715e-03]\n",
      " [ 4.95605109e-03 -9.40146561e-03]\n",
      " [-1.27300100e-02  5.62179463e-04]\n",
      " [ 1.71408860e-03  2.61099922e-03]\n",
      " [ 7.97804761e-03  4.90338606e-05]\n",
      " [-1.12937709e-03 -1.06137558e-02]\n",
      " [-4.60627774e-04  2.05591707e-03]\n",
      " [ 2.16287525e-03 -2.70286917e-03]\n",
      " [-6.04653661e-03  4.54964653e-03]\n",
      " [ 1.83668413e-04  3.43592848e-03]\n",
      " [ 1.02890510e-03  2.81141982e-04]\n",
      " [ 1.00912233e-03  5.14772144e-03]\n",
      " [-2.72911148e-03  3.71685954e-03]\n",
      " [ 4.66982376e-03 -2.91037218e-03]\n",
      " [ 9.38998475e-04 -1.51128591e-03]\n",
      " [-1.27095665e-03  3.30385213e-03]\n",
      " [ 6.94799702e-04  1.59061805e-03]\n",
      " [-3.57922197e-03  1.66624982e-03]\n",
      " [ 3.41825026e-03 -3.91274129e-03]\n",
      " [ 8.27510147e-02 -4.30771707e-02]]\n"
     ]
    }
   ],
   "source": [
    "print(samples[1] - samples[2])"
   ]
  },
  {
   "cell_type": "markdown",
   "metadata": {},
   "source": [
    "Et voila: this is the solution to the Lotka-Volterra model."
   ]
  },
  {
   "cell_type": "code",
   "execution_count": 9,
   "metadata": {
    "tags": [
     "nbsphinx-thumbnail"
    ]
   },
   "outputs": [
    {
     "data": {
      "image/png": "[encoded data removed]",
      "text/plain": [
       "<Figure size 1200x675 with 1 Axes>"
      ]
     },
     "metadata": {
      "needs_background": "light"
     },
     "output_type": "display_data"
    }
   ],
   "source": [
    "# plt.plot(evalgrid, y, \"o-\", linewidth=1)\n",
    "plt.plot(evalgrid, samples[:, :, 1].T, \":\", linewidth=1)\n",
    "# plt.fill_between(evalgrid, y-3*s, y+3*s, alpha=0.5)\n",
    "plt.show()"
   ]
  },
  {
   "cell_type": "code",
   "execution_count": 10,
   "metadata": {},
   "outputs": [
    {
     "data": {
      "text/plain": [
       "0.02899136078408227"
      ]
     },
     "execution_count": 10,
     "metadata": {},
     "output_type": "execute_result"
    }
   ],
   "source": [
    "solver.sigma_squared_mle"
   ]
  },
  {
   "cell_type": "code",
   "execution_count": null,
   "metadata": {},
   "outputs": [],
   "source": []
  }
 ],
 "metadata": {
  "kernelspec": {
   "display_name": "Python 3",
   "language": "python",
   "name": "python3"
  },
  "language_info": {
   "codemirror_mode": {
    "name": "ipython",
    "version": 3
   },
   "file_extension": ".py",
   "mimetype": "text/x-python",
   "name": "python",
   "nbconvert_exporter": "python",
   "pygments_lexer": "ipython3",
   "version": "3.8.0"
  }
 },
 "nbformat": 4,
 "nbformat_minor": 4
}
