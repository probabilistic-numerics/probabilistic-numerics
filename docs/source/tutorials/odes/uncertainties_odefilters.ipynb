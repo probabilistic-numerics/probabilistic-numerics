{
 "cells": [
  {
   "cell_type": "markdown",
   "metadata": {},
   "source": [
    "# How meaningful are Gaussian ODE filter uncertainties?\n",
    "\n",
    "We investigate whether the uncertaintes returned by Gaussian ODE Filters are meaningful as actual error estimates---or even better?\n"
   ]
  },
  {
   "cell_type": "code",
   "execution_count": 1,
   "metadata": {},
   "outputs": [],
   "source": [
    "# Make inline plots vector graphics instead of raster graphics\n",
    "%matplotlib inline\n",
    "from IPython.display import set_matplotlib_formats\n",
    "set_matplotlib_formats('pdf', 'svg')\n",
    "\n",
    "# Plotting\n",
    "import matplotlib.pyplot as plt\n",
    "plt.style.use('../../probnum.mplstyle')"
   ]
  },
  {
   "cell_type": "code",
   "execution_count": 2,
   "metadata": {},
   "outputs": [],
   "source": [
    "import numpy as np\n",
    "\n",
    "import probnum.diffeq as diffeq\n",
    "from probnum.diffeq import IVP\n",
    "from probnum.diffeq import lotkavolterra\n",
    "from probnum import random_variables as rvs\n",
    "from probnum.diffeq import logistic, probsolve_ivp\n",
    "\n",
    "\n",
    "np.random.seed(123)"
   ]
  },
  {
   "cell_type": "markdown",
   "metadata": {},
   "source": [
    "We start with the Lotka-Volterra equations."
   ]
  },
  {
   "cell_type": "code",
   "execution_count": 3,
   "metadata": {},
   "outputs": [],
   "source": [
    "\n",
    "def f(t, y):\n",
    "    y1, y2 = y\n",
    "    return np.array([0.5 * y1 - 0.05 * y1 * y2, -0.5 * y2 + 0.05 * y1 * y2])\n",
    "\n",
    "def df(t, y):\n",
    "    y1, y2 = y\n",
    "    return np.array([[0.5 - 0.05 * y2, -0.05 * y1], [0.05 * y2, -0.5 + 0.05 * y1]])\n",
    "\n",
    "t0 = 0.\n",
    "tmax = 20.\n",
    "y0 = np.array([20, 20])"
   ]
  },
  {
   "cell_type": "markdown",
   "metadata": {},
   "source": [
    "The EK0 ODE filter is quite fast and flexible, but does not yield accurate uncertainty estimates. We see below that the uncertainty increases monotonously, independent on the actual peaks and valleys of the ODE solution.\n",
    "\n",
    "It is not surprising that the EK0 solution is agnostic of the trajectory. In fact, the covariance of the EK0 filter is independent of the data and as such, we cannot expect it to return useful uncertainty."
   ]
  },
  {
   "cell_type": "code",
   "execution_count": 4,
   "metadata": {},
   "outputs": [
    {
     "ename": "AttributeError",
     "evalue": "module 'probnum.filtsmooth' has no attribute 'statespace'",
     "output_type": "error",
     "traceback": [
      "\u001b[0;31m---------------------------------------------------------------------------\u001b[0m",
      "\u001b[0;31mAttributeError\u001b[0m                            Traceback (most recent call last)",
      "\u001b[0;32m<ipython-input-4-2379a724327d>\u001b[0m in \u001b[0;36m<module>\u001b[0;34m\u001b[0m\n\u001b[0;32m----> 1\u001b[0;31m \u001b[0msol\u001b[0m \u001b[0;34m=\u001b[0m \u001b[0mprobsolve_ivp\u001b[0m\u001b[0;34m(\u001b[0m\u001b[0mf\u001b[0m\u001b[0;34m,\u001b[0m \u001b[0mt0\u001b[0m\u001b[0;34m,\u001b[0m \u001b[0mtmax\u001b[0m\u001b[0;34m,\u001b[0m \u001b[0my0\u001b[0m\u001b[0;34m,\u001b[0m \u001b[0mdf\u001b[0m\u001b[0;34m=\u001b[0m\u001b[0mdf\u001b[0m\u001b[0;34m,\u001b[0m \u001b[0mstep\u001b[0m\u001b[0;34m=\u001b[0m\u001b[0;36m0.1\u001b[0m\u001b[0;34m,\u001b[0m \u001b[0madaptive\u001b[0m\u001b[0;34m=\u001b[0m\u001b[0;32mFalse\u001b[0m\u001b[0;34m)\u001b[0m\u001b[0;34m\u001b[0m\u001b[0;34m\u001b[0m\u001b[0m\n\u001b[0m",
      "\u001b[0;32m~/Programmes/probnum/probnum/src/probnum/diffeq/odefiltsmooth/odefiltsmooth.py\u001b[0m in \u001b[0;36mprobsolve_ivp\u001b[0;34m(f, t0, tmax, y0, df, method, dense_output, algo_order, adaptive, atol, rtol, step)\u001b[0m\n\u001b[1;32m    239\u001b[0m \u001b[0;34m\u001b[0m\u001b[0m\n\u001b[1;32m    240\u001b[0m     \u001b[0;31m# Create solver\u001b[0m\u001b[0;34m\u001b[0m\u001b[0;34m\u001b[0m\u001b[0;34m\u001b[0m\u001b[0m\n\u001b[0;32m--> 241\u001b[0;31m     prior = pnfs.statespace.IBM(\n\u001b[0m\u001b[1;32m    242\u001b[0m         \u001b[0mordint\u001b[0m\u001b[0;34m=\u001b[0m\u001b[0malgo_order\u001b[0m\u001b[0;34m,\u001b[0m\u001b[0;34m\u001b[0m\u001b[0;34m\u001b[0m\u001b[0m\n\u001b[1;32m    243\u001b[0m         \u001b[0mspatialdim\u001b[0m\u001b[0;34m=\u001b[0m\u001b[0mivp\u001b[0m\u001b[0;34m.\u001b[0m\u001b[0mdimension\u001b[0m\u001b[0;34m,\u001b[0m\u001b[0;34m\u001b[0m\u001b[0;34m\u001b[0m\u001b[0m\n",
      "\u001b[0;31mAttributeError\u001b[0m: module 'probnum.filtsmooth' has no attribute 'statespace'"
     ]
    }
   ],
   "source": [
    "sol = probsolve_ivp(f, t0, tmax, y0, df=df, step=0.1, adaptive=False)"
   ]
  },
  {
   "cell_type": "code",
   "execution_count": null,
   "metadata": {},
   "outputs": [],
   "source": [
    "means, stds = sol.y.mean, sol.y.std\n",
    "\n",
    "fig, (ax1, ax2) = plt.subplots(nrows=2, ncols=1, sharex=True)\n",
    "ax1.plot(sol.t, means[:, 0], label=\"x1\")\n",
    "ax1.plot(sol.t, means[:, 1], label=\"x2\")\n",
    "ax1.legend()\n",
    "ax2.fill_between(sol.t, stds[:, 0], alpha=0.25, label=\"x1-unc.\")\n",
    "ax2.fill_between(sol.t, stds[:, 1], alpha=0.25, label=\"x2-unc.\")\n",
    "ax2.legend()\n",
    "fig.suptitle(\"EK0 Solution\")\n",
    "plt.show()"
   ]
  },
  {
   "cell_type": "markdown",
   "metadata": {},
   "source": [
    "Notice that the uncertainties are aware of the peaks and valleys. They even know whether the peak is flat (rhs of blue, lhs of orange; smaller ones of the blue peaks) or steep. On top of that, they increase over time."
   ]
  },
  {
   "cell_type": "markdown",
   "metadata": {},
   "source": [
    "For both we can also sample from the solution. Let us compute a low-res solution (so the samples actually look different from each other).\n",
    "\n",
    "Beware, because large numbers of samples can take a long time to compute."
   ]
  },
  {
   "cell_type": "code",
   "execution_count": null,
   "metadata": {},
   "outputs": [],
   "source": [
    "sol = probsolve_ivp(f, t0, tmax, y0, df=df, step=0.5, algo_order=1, adaptive=False)"
   ]
  },
  {
   "cell_type": "code",
   "execution_count": null,
   "metadata": {},
   "outputs": [],
   "source": [
    "num_samples = 20\n",
    "locations = np.arange(0., 25.1, 0.1)\n",
    "samples = sol.sample(t=locations,size=num_samples)\n",
    "\n",
    "solution = sol(locations)\n",
    "means = solution.mean\n",
    "stds = solution.std"
   ]
  },
  {
   "cell_type": "code",
   "execution_count": null,
   "metadata": {
    "tags": [
     "nbsphinx-thumbnail"
    ]
   },
   "outputs": [],
   "source": [
    "fig, (ax1) = plt.subplots(nrows=1, ncols=1, sharex=True)\n",
    "for sample in samples:\n",
    "    ax1.plot(locations, sample[:, 0], \":\", color=\"C0\", linewidth=\"1\", alpha=1)\n",
    "    ax1.plot(locations, sample[:, 1], \":\", color=\"C1\", linewidth=\"1\", alpha=1)\n",
    "ax1.plot(locations, means[:, 0], label=\"x1\", color=\"k\")\n",
    "ax1.plot(locations, means[:, 1], label=\"x2\", color=\"k\")\n",
    "ax1.fill_between(\n",
    "    locations,\n",
    "    means[:, 0] - 2 * stds[:, 0],\n",
    "    means[:, 0] + 2 * stds[:, 0],\n",
    "    color=\"C0\",\n",
    "    alpha=0.3,\n",
    ")\n",
    "ax1.fill_between(\n",
    "    locations,\n",
    "    means[:, 1] - 2 * stds[:, 1],\n",
    "    means[:, 1] + 2 * stds[:, 1],\n",
    "    color=\"C1\",\n",
    "    alpha=0.3,\n",
    ")\n",
    "\n",
    "ax1.plot(sol.t, sol.y.mean, \"o\")\n",
    "fig.suptitle(f\"$N={num_samples}$ Samples From an EK0 Solution\")\n",
    "\n",
    "plt.show()"
   ]
  },
  {
   "cell_type": "code",
   "execution_count": null,
   "metadata": {},
   "outputs": [],
   "source": []
  }
 ],
 "metadata": {
  "@webio": {
   "lastCommId": null,
   "lastKernelId": null
  },
  "celltoolbar": "Edit Metadata",
  "kernelspec": {
   "display_name": "Python 3",
   "language": "python",
   "name": "python3"
  },
  "language_info": {
   "codemirror_mode": {
    "name": "ipython",
    "version": 3
   },
   "file_extension": ".py",
   "mimetype": "text/x-python",
   "name": "python",
   "nbconvert_exporter": "python",
   "pygments_lexer": "ipython3",
   "version": "3.8.5"
  }
 },
 "nbformat": 4,
 "nbformat_minor": 4
}
