{
 "cells": [
  {
   "cell_type": "markdown",
   "id": "covered-illness",
   "metadata": {},
   "source": [
    "# Event handling in ProbNum\n",
    "\n",
    "\n",
    "## Quickstart"
   ]
  },
  {
   "cell_type": "code",
   "execution_count": 1,
   "id": "ordinary-solution",
   "metadata": {},
   "outputs": [],
   "source": [
    "from probnum import diffeq, randvars, statespace, randprocs, problems\n",
    "\n",
    "from probnum.problems.zoo import diffeq as diffeq_zoo\n",
    "\n",
    "import matplotlib.pyplot as plt\n",
    "import numpy as np"
   ]
  },
  {
   "cell_type": "code",
   "execution_count": 2,
   "id": "accepted-breath",
   "metadata": {},
   "outputs": [],
   "source": [
    "ivp = diffeq_zoo.lotkavolterra(tmax=15)"
   ]
  },
  {
   "cell_type": "code",
   "execution_count": 3,
   "id": "fabulous-milan",
   "metadata": {},
   "outputs": [],
   "source": [
    "\n",
    "sol = diffeq.probsolve_ivp(ivp.f, ivp.t0, ivp.tmax, ivp.y0, atol=1e-1, rtol=1e-1, time_stamps=np.linspace(9., 10., 100))"
   ]
  },
  {
   "cell_type": "code",
   "execution_count": null,
   "id": "molecular-duration",
   "metadata": {},
   "outputs": [],
   "source": []
  },
  {
   "cell_type": "code",
   "execution_count": 4,
   "id": "narrative-victoria",
   "metadata": {},
   "outputs": [
    {
     "data": {
      "image/png": "[encoded data removed]",
      "text/plain": [
       "<Figure size 432x288 with 1 Axes>"
      ]
     },
     "metadata": {
      "needs_background": "light"
     },
     "output_type": "display_data"
    }
   ],
   "source": [
    "plt.plot(sol.locations, sol.states.mean, 'o-')\n",
    "plt.show()"
   ]
  },
  {
   "cell_type": "code",
   "execution_count": null,
   "id": "sapphire-fossil",
   "metadata": {},
   "outputs": [],
   "source": []
  },
  {
   "cell_type": "code",
   "execution_count": null,
   "id": "white-motel",
   "metadata": {},
   "outputs": [],
   "source": []
  },
  {
   "cell_type": "code",
   "execution_count": null,
   "id": "wireless-venezuela",
   "metadata": {},
   "outputs": [],
   "source": []
  },
  {
   "cell_type": "code",
   "execution_count": 62,
   "id": "beneficial-plumbing",
   "metadata": {},
   "outputs": [],
   "source": [
    "def f(t, y):\n",
    "    return -1.0 * y\n",
    "\n",
    "\n",
    "def df(t, y):\n",
    "    return -1 * np.eye(len(y))#np.ones((len(y), len(y)))\n",
    "    \n",
    "\n",
    "t0 = 0.0\n",
    "tmax = 5.0\n",
    "y0 = np.array([4])\n",
    "\n",
    "ivp = problems.InitialValueProblem(t0=t0, tmax=tmax, y0=y0, f=f, df=df)"
   ]
  },
  {
   "cell_type": "code",
   "execution_count": 75,
   "id": "increasing-baseline",
   "metadata": {},
   "outputs": [
    {
     "ename": "TypeError",
     "evalue": "unsupported operand type(s) for *: 'float' and 'NoneType'",
     "output_type": "error",
     "traceback": [
      "\u001b[0;31m---------------------------------------------------------------------------\u001b[0m",
      "\u001b[0;31mTypeError\u001b[0m                                 Traceback (most recent call last)",
      "\u001b[0;32m<ipython-input-75-f54209d3c9ff>\u001b[0m in \u001b[0;36m<module>\u001b[0;34m\u001b[0m\n\u001b[1;32m     37\u001b[0m )\n\u001b[1;32m     38\u001b[0m \u001b[0msteprule\u001b[0m \u001b[0;34m=\u001b[0m \u001b[0mdiffeq\u001b[0m\u001b[0;34m.\u001b[0m\u001b[0mstepsize\u001b[0m\u001b[0;34m.\u001b[0m\u001b[0mAdaptiveSteps\u001b[0m\u001b[0;34m(\u001b[0m\u001b[0;36m0.1\u001b[0m\u001b[0;34m,\u001b[0m \u001b[0;36m0.01\u001b[0m\u001b[0;34m,\u001b[0m \u001b[0;36m0.01\u001b[0m\u001b[0;34m)\u001b[0m\u001b[0;34m\u001b[0m\u001b[0;34m\u001b[0m\u001b[0m\n\u001b[0;32m---> 39\u001b[0;31m \u001b[0modesol\u001b[0m \u001b[0;34m=\u001b[0m \u001b[0msolver\u001b[0m\u001b[0;34m.\u001b[0m\u001b[0msolve\u001b[0m\u001b[0;34m(\u001b[0m\u001b[0msteprule\u001b[0m\u001b[0;34m=\u001b[0m\u001b[0msteprule\u001b[0m\u001b[0;34m)\u001b[0m\u001b[0;34m\u001b[0m\u001b[0;34m\u001b[0m\u001b[0m\n\u001b[0m",
      "\u001b[0;32m~/Programmes/probnum/probnum/src/probnum/diffeq/_odesolver.py\u001b[0m in \u001b[0;36msolve\u001b[0;34m(self, steprule)\u001b[0m\n\u001b[1;32m     53\u001b[0m         \u001b[0mself\u001b[0m\u001b[0;34m.\u001b[0m\u001b[0msteprule\u001b[0m \u001b[0;34m=\u001b[0m \u001b[0msteprule\u001b[0m\u001b[0;34m\u001b[0m\u001b[0;34m\u001b[0m\u001b[0m\n\u001b[1;32m     54\u001b[0m         \u001b[0mtimes\u001b[0m\u001b[0;34m,\u001b[0m \u001b[0mrvs\u001b[0m \u001b[0;34m=\u001b[0m \u001b[0;34m[\u001b[0m\u001b[0;34m]\u001b[0m\u001b[0;34m,\u001b[0m \u001b[0;34m[\u001b[0m\u001b[0;34m]\u001b[0m\u001b[0;34m\u001b[0m\u001b[0;34m\u001b[0m\u001b[0m\n\u001b[0;32m---> 55\u001b[0;31m         \u001b[0;32mfor\u001b[0m \u001b[0mstate\u001b[0m \u001b[0;32min\u001b[0m \u001b[0mself\u001b[0m\u001b[0;34m.\u001b[0m\u001b[0msolution_generator\u001b[0m\u001b[0;34m(\u001b[0m\u001b[0msteprule\u001b[0m\u001b[0;34m)\u001b[0m\u001b[0;34m:\u001b[0m\u001b[0;34m\u001b[0m\u001b[0;34m\u001b[0m\u001b[0m\n\u001b[0m\u001b[1;32m     56\u001b[0m             \u001b[0mtimes\u001b[0m\u001b[0;34m.\u001b[0m\u001b[0mappend\u001b[0m\u001b[0;34m(\u001b[0m\u001b[0mstate\u001b[0m\u001b[0;34m.\u001b[0m\u001b[0mt\u001b[0m\u001b[0;34m)\u001b[0m\u001b[0;34m\u001b[0m\u001b[0;34m\u001b[0m\u001b[0m\n\u001b[1;32m     57\u001b[0m             \u001b[0mrvs\u001b[0m\u001b[0;34m.\u001b[0m\u001b[0mappend\u001b[0m\u001b[0;34m(\u001b[0m\u001b[0mstate\u001b[0m\u001b[0;34m.\u001b[0m\u001b[0mrv\u001b[0m\u001b[0;34m)\u001b[0m\u001b[0;34m\u001b[0m\u001b[0;34m\u001b[0m\u001b[0m\n",
      "\u001b[0;32m~/Programmes/probnum/probnum/src/probnum/diffeq/_odesolver.py\u001b[0m in \u001b[0;36msolution_generator\u001b[0;34m(self, steprule)\u001b[0m\n\u001b[1;32m     71\u001b[0m         \u001b[0;32mwhile\u001b[0m \u001b[0mstate\u001b[0m\u001b[0;34m.\u001b[0m\u001b[0mt\u001b[0m \u001b[0;34m<\u001b[0m \u001b[0mself\u001b[0m\u001b[0;34m.\u001b[0m\u001b[0mivp\u001b[0m\u001b[0;34m.\u001b[0m\u001b[0mtmax\u001b[0m\u001b[0;34m:\u001b[0m\u001b[0;34m\u001b[0m\u001b[0;34m\u001b[0m\u001b[0m\n\u001b[1;32m     72\u001b[0m             \u001b[0mproposed_state\u001b[0m \u001b[0;34m=\u001b[0m \u001b[0mself\u001b[0m\u001b[0;34m.\u001b[0m\u001b[0mstep\u001b[0m\u001b[0;34m(\u001b[0m\u001b[0mstate\u001b[0m\u001b[0;34m,\u001b[0m \u001b[0mstepsize\u001b[0m\u001b[0;34m)\u001b[0m\u001b[0;34m\u001b[0m\u001b[0;34m\u001b[0m\u001b[0m\n\u001b[0;32m---> 73\u001b[0;31m             internal_norm = steprule.errorest_to_norm(\n\u001b[0m\u001b[1;32m     74\u001b[0m                 \u001b[0merrorest\u001b[0m\u001b[0;34m=\u001b[0m\u001b[0mproposed_state\u001b[0m\u001b[0;34m.\u001b[0m\u001b[0merror_estimate\u001b[0m\u001b[0;34m,\u001b[0m\u001b[0;34m\u001b[0m\u001b[0;34m\u001b[0m\u001b[0m\n\u001b[1;32m     75\u001b[0m                 \u001b[0mreference_state\u001b[0m\u001b[0;34m=\u001b[0m\u001b[0mproposed_state\u001b[0m\u001b[0;34m.\u001b[0m\u001b[0mreference_state\u001b[0m\u001b[0;34m,\u001b[0m\u001b[0;34m\u001b[0m\u001b[0;34m\u001b[0m\u001b[0m\n",
      "\u001b[0;32m~/Programmes/probnum/probnum/src/probnum/diffeq/stepsize/_steprule.py\u001b[0m in \u001b[0;36merrorest_to_norm\u001b[0;34m(self, errorest, reference_state)\u001b[0m\n\u001b[1;32m    140\u001b[0m         \u001b[0mself\u001b[0m\u001b[0;34m,\u001b[0m \u001b[0merrorest\u001b[0m\u001b[0;34m:\u001b[0m \u001b[0mToleranceDiffusionType\u001b[0m\u001b[0;34m,\u001b[0m \u001b[0mreference_state\u001b[0m\u001b[0;34m:\u001b[0m \u001b[0mnp\u001b[0m\u001b[0;34m.\u001b[0m\u001b[0mndarray\u001b[0m\u001b[0;34m\u001b[0m\u001b[0;34m\u001b[0m\u001b[0m\n\u001b[1;32m    141\u001b[0m     ):\n\u001b[0;32m--> 142\u001b[0;31m         \u001b[0mtolerance\u001b[0m \u001b[0;34m=\u001b[0m \u001b[0mself\u001b[0m\u001b[0;34m.\u001b[0m\u001b[0matol\u001b[0m \u001b[0;34m+\u001b[0m \u001b[0mself\u001b[0m\u001b[0;34m.\u001b[0m\u001b[0mrtol\u001b[0m \u001b[0;34m*\u001b[0m \u001b[0mreference_state\u001b[0m\u001b[0;34m\u001b[0m\u001b[0;34m\u001b[0m\u001b[0m\n\u001b[0m\u001b[1;32m    143\u001b[0m         \u001b[0mratio\u001b[0m \u001b[0;34m=\u001b[0m \u001b[0merrorest\u001b[0m \u001b[0;34m/\u001b[0m \u001b[0mtolerance\u001b[0m\u001b[0;34m\u001b[0m\u001b[0;34m\u001b[0m\u001b[0m\n\u001b[1;32m    144\u001b[0m         \u001b[0mdim\u001b[0m \u001b[0;34m=\u001b[0m \u001b[0mlen\u001b[0m\u001b[0;34m(\u001b[0m\u001b[0mratio\u001b[0m\u001b[0;34m)\u001b[0m \u001b[0;32mif\u001b[0m \u001b[0mratio\u001b[0m\u001b[0;34m.\u001b[0m\u001b[0mndim\u001b[0m \u001b[0;34m>\u001b[0m \u001b[0;36m0\u001b[0m \u001b[0;32melse\u001b[0m \u001b[0;36m1\u001b[0m\u001b[0;34m\u001b[0m\u001b[0;34m\u001b[0m\u001b[0m\n",
      "\u001b[0;31mTypeError\u001b[0m: unsupported operand type(s) for *: 'float' and 'NoneType'"
     ]
    }
   ],
   "source": [
    "prior = statespace.IBM(\n",
    "    ordint=1,\n",
    "    spatialdim=ivp.dimension,\n",
    "    forward_implementation=\"sqrt\",\n",
    "    backward_implementation=\"sqrt\",\n",
    ")\n",
    "initrv = randvars.Normal(mean=np.zeros(prior.dimension), cov=np.eye(prior.dimension))\n",
    "\n",
    "prior_process = randprocs.MarkovProcess(transition=prior, initrv=initrv, initarg=ivp.t0)\n",
    "\n",
    "ekf = diffeq.odefiltsmooth.GaussianIVPFilter.string_to_measurement_model(\n",
    "    \"EK1\", ivp=ivp, prior_process=prior_process\n",
    ")\n",
    "\n",
    "diffmodel = statespace.PiecewiseConstantDiffusion(t0=ivp.t0)\n",
    "\n",
    "init_routine = diffeq.odefiltsmooth.initialization_routines.RungeKuttaInitialization()\n",
    "\n",
    "\n",
    "def condition(state): \n",
    "    return state.t in [2.]\n",
    "    \n",
    "def modify(rv):\n",
    "    new_mean = np.array([10., 0])\n",
    "    return randvars.Normal(new_mean, cov=0*rv.cov, cov_cholesky=0*rv.cov_cholesky)\n",
    "\n",
    "events = diffeq.events.DiscreteEventHandler(time_stamps=[2.], condition=condition, modify=modify)\n",
    "\n",
    "solver = diffeq.odefiltsmooth.GaussianIVPFilter(\n",
    "    ivp,\n",
    "    prior_process=prior_process,\n",
    "    measurement_model=ekf,\n",
    "    initialization_routine=init_routine,\n",
    "    diffusion_model=diffmodel,\n",
    "    with_smoothing=True,\n",
    "    event_handler=events\n",
    ")\n",
    "steprule = diffeq.stepsize.AdaptiveSteps(0.1, 0.01, 0.01)\n",
    "odesol = solver.solve(steprule=steprule)"
   ]
  },
  {
   "cell_type": "code",
   "execution_count": 76,
   "id": "organizational-resource",
   "metadata": {},
   "outputs": [
    {
     "data": {
      "image/png": "[encoded data removed]",
      "text/plain": [
       "<Figure size 432x288 with 1 Axes>"
      ]
     },
     "metadata": {
      "needs_background": "light"
     },
     "output_type": "display_data"
    }
   ],
   "source": [
    "plt.plot(odesol.locations, odesol.states.mean, 'o-')\n",
    "plt.show()"
   ]
  },
  {
   "cell_type": "code",
   "execution_count": null,
   "id": "common-perception",
   "metadata": {},
   "outputs": [],
   "source": []
  },
  {
   "cell_type": "code",
   "execution_count": null,
   "id": "valuable-berry",
   "metadata": {},
   "outputs": [],
   "source": []
  }
 ],
 "metadata": {
  "kernelspec": {
   "display_name": "Python 3",
   "language": "python",
   "name": "python3"
  },
  "language_info": {
   "codemirror_mode": {
    "name": "ipython",
    "version": 3
   },
   "file_extension": ".py",
   "mimetype": "text/x-python",
   "name": "python",
   "nbconvert_exporter": "python",
   "pygments_lexer": "ipython3",
   "version": "3.8.10"
  }
 },
 "nbformat": 4,
 "nbformat_minor": 5
}
