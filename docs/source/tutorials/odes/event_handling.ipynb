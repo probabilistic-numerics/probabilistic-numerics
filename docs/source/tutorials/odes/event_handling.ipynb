{
 "cells": [
  {
   "cell_type": "markdown",
   "id": "bronze-elevation",
   "metadata": {},
   "source": [
    "# Event handling in ProbNum\n",
    "\n",
    "\n",
    "## Quickstart"
   ]
  },
  {
   "cell_type": "code",
   "execution_count": 1,
   "id": "other-herald",
   "metadata": {},
   "outputs": [],
   "source": [
    "from probnum import diffeq, randvars, statespace, randprocs, problems\n",
    "\n",
    "from probnum.problems.zoo import diffeq as diffeq_zoo\n",
    "\n",
    "import matplotlib.pyplot as plt\n",
    "import numpy as np"
   ]
  },
  {
   "cell_type": "code",
   "execution_count": 2,
   "id": "rural-television",
   "metadata": {},
   "outputs": [],
   "source": [
    "ivp = diffeq_zoo.lotkavolterra(tmax=15)"
   ]
  },
  {
   "cell_type": "code",
   "execution_count": 3,
   "id": "rotary-lancaster",
   "metadata": {},
   "outputs": [],
   "source": [
    "\n",
    "sol = diffeq.probsolve_ivp(ivp.f, ivp.t0, ivp.tmax, ivp.y0, atol=1e-1, rtol=1e-1, time_stamps=np.linspace(9., 10., 100))"
   ]
  },
  {
   "cell_type": "code",
   "execution_count": null,
   "id": "closed-thong",
   "metadata": {},
   "outputs": [],
   "source": []
  },
  {
   "cell_type": "code",
   "execution_count": 4,
   "id": "composite-surprise",
   "metadata": {},
   "outputs": [
    {
     "data": {
      "image/png": "[encoded data removed]",
      "text/plain": [
       "<Figure size 432x288 with 1 Axes>"
      ]
     },
     "metadata": {
      "needs_background": "light"
     },
     "output_type": "display_data"
    }
   ],
   "source": [
    "plt.plot(sol.locations, sol.states.mean, 'o-')\n",
    "plt.show()"
   ]
  },
  {
   "cell_type": "code",
   "execution_count": null,
   "id": "coastal-barrel",
   "metadata": {},
   "outputs": [],
   "source": []
  },
  {
   "cell_type": "code",
   "execution_count": null,
   "id": "stunning-attribute",
   "metadata": {},
   "outputs": [],
   "source": []
  },
  {
   "cell_type": "code",
   "execution_count": null,
   "id": "continuing-bryan",
   "metadata": {},
   "outputs": [],
   "source": []
  },
  {
   "cell_type": "code",
   "execution_count": 5,
   "id": "close-figure",
   "metadata": {},
   "outputs": [],
   "source": [
    "def f(t, y):\n",
    "    return -1.0 * y\n",
    "\n",
    "\n",
    "def df(t, y):\n",
    "    return -1 * np.eye(len(y))#np.ones((len(y), len(y)))\n",
    "    \n",
    "\n",
    "t0 = 0.0\n",
    "tmax = 5.0\n",
    "y0 = np.array([4])\n",
    "\n",
    "ivp = problems.InitialValueProblem(t0=t0, tmax=tmax, y0=y0, f=f, df=df)"
   ]
  },
  {
   "cell_type": "code",
   "execution_count": 50,
   "id": "comparative-provision",
   "metadata": {},
   "outputs": [],
   "source": [
    "prior = statespace.IBM(\n",
    "    ordint=1,\n",
    "    spatialdim=ivp.dimension,\n",
    "    forward_implementation=\"sqrt\",\n",
    "    backward_implementation=\"sqrt\",\n",
    ")\n",
    "initrv = randvars.Normal(mean=np.zeros(prior.dimension), cov=np.eye(prior.dimension))\n",
    "\n",
    "prior_process = randprocs.MarkovProcess(transition=prior, initrv=initrv, initarg=ivp.t0)\n",
    "\n",
    "ekf = diffeq.odefiltsmooth.GaussianIVPFilter.string_to_measurement_model(\n",
    "    \"EK1\", ivp=ivp, prior_process=prior_process\n",
    ")\n",
    "\n",
    "diffmodel = statespace.ConstantDiffusion()\n",
    "\n",
    "init_routine = diffeq.odefiltsmooth.initialization_routines.RungeKuttaInitialization()\n",
    "\n",
    "\n",
    "def condition(state): \n",
    "    return state.t in [2., 4.]\n",
    "    \n",
    "def modify(rv):\n",
    "    new_mean = np.array([6., -6])\n",
    "    return randvars.Normal(new_mean, cov=0*rv.cov, cov_cholesky=0*rv.cov_cholesky)\n",
    "\n",
    "events = diffeq.events.DiscreteEventHandler(time_stamps=[2., 4.], condition=condition, modify=modify)\n",
    "\n",
    "solver = diffeq.odefiltsmooth.GaussianIVPFilter(\n",
    "    ivp,\n",
    "    prior_process=prior_process,\n",
    "    measurement_model=ekf,\n",
    "    initialization_routine=init_routine,\n",
    "    diffusion_model=diffmodel,\n",
    "    with_smoothing=False,\n",
    "    event_handler=events\n",
    ")\n",
    "steprule = diffeq.stepsize.AdaptiveSteps(0.1, atol=1e-2, rtol=1e-2)\n",
    "odesol = solver.solve(steprule=steprule)"
   ]
  },
  {
   "cell_type": "code",
   "execution_count": 51,
   "id": "coastal-alarm",
   "metadata": {},
   "outputs": [
    {
     "data": {
      "image/png": "[encoded data removed]",
      "text/plain": [
       "<Figure size 432x288 with 1 Axes>"
      ]
     },
     "metadata": {
      "needs_background": "light"
     },
     "output_type": "display_data"
    }
   ],
   "source": [
    "plt.plot(odesol.locations, odesol.states.mean, 'o-')\n",
    "plt.show()"
   ]
  },
  {
   "cell_type": "code",
   "execution_count": null,
   "id": "hairy-conservative",
   "metadata": {},
   "outputs": [],
   "source": [
    "odesol.kalman_posterior.states.mean"
   ]
  },
  {
   "cell_type": "code",
   "execution_count": null,
   "id": "alternative-elements",
   "metadata": {},
   "outputs": [],
   "source": []
  },
  {
   "cell_type": "code",
   "execution_count": null,
   "id": "interracial-wrestling",
   "metadata": {},
   "outputs": [],
   "source": []
  }
 ],
 "metadata": {
  "kernelspec": {
   "display_name": "Python 3",
   "language": "python",
   "name": "python3"
  },
  "language_info": {
   "codemirror_mode": {
    "name": "ipython",
    "version": 3
   },
   "file_extension": ".py",
   "mimetype": "text/x-python",
   "name": "python",
   "nbconvert_exporter": "python",
   "pygments_lexer": "ipython3",
   "version": "3.8.10"
  }
 },
 "nbformat": 4,
 "nbformat_minor": 5
}
