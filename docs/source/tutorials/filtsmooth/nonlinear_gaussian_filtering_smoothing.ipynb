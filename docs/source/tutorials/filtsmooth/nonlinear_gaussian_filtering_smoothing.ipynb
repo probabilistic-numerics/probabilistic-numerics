{
 "cells": [
  {
   "cell_type": "markdown",
   "metadata": {},
   "source": [
    "# Non-linear Gaussian filtering and smoothing\n",
    "\n",
    "Provided are two examples of nonlinear state-space models on which one can perform Bayesian filtering and smoothing in order to obtain\n",
    "a posterior distribution over a latent state trajectory based on noisy observations.\n",
    "In order to understand the theory behind these methods in detail we refer to [1] and [2].\n",
    "\n",
    "We provide examples for two different types of state-space model:\n",
    "1. [Nonlinear, Discrete State-Space Model](#1.-Non-Linear-Discrete-State-Space-Model:-Pendulum): Pendulum\n",
    "2. [Nonlinear, Continuous-Discrete State-Space Model](#2.-Non-Linear-Continuous-Discrete-State-Space-Model:-Benes-Daum-Filter): Benes-Daum Filter\n",
    "\n",
    "In order to perform Bayesian Filtering and Smoothing on non-linear models, we show how to use functionalities provided by ProbNum to\n",
    "either linearise the respective model (Extended Kalman Filter, EKF) or to use an Unscented Transform (Unscented Kalman Filter, UKF) which does not require a Jacobian of the nonlinear model.\n",
    "\n",
    "**References**:\n",
    "> [1] Särkkä, Simo, and Solin, Arno. Applied Stochastic Differential Equations. Cambridge University Press, 2019.  \n",
    ">\n",
    "> [2] Särkkä, Simo. Bayesian Filtering and Smoothing. Cambridge University Press, 2013."
   ]
  },
  {
   "cell_type": "code",
   "execution_count": null,
   "metadata": {},
   "outputs": [],
   "source": [
    "import numpy as np\n",
    "\n",
    "import probnum as pn\n",
    "from probnum import filtsmooth, randvars, statespace\n"
   ]
  },
  {
   "cell_type": "code",
   "execution_count": null,
   "metadata": {},
   "outputs": [],
   "source": [
    "np.random.seed(12345)"
   ]
  },
  {
   "cell_type": "code",
   "execution_count": null,
   "metadata": {},
   "outputs": [],
   "source": [
    "# Make inline plots vector graphics instead of raster graphics\n",
    "%matplotlib inline\n",
    "from IPython.display import set_matplotlib_formats\n",
    "set_matplotlib_formats('pdf', 'svg')\n",
    "\n",
    "# Plotting\n",
    "import matplotlib.pyplot as plt\n",
    "import matplotlib.gridspec as gridspec\n",
    "plt.style.use('../../probnum.mplstyle')"
   ]
  },
  {
   "cell_type": "markdown",
   "metadata": {},
   "source": [
    "## 1. **Non-Linear Discrete** State-Space Model: Pendulum"
   ]
  },
  {
   "cell_type": "markdown",
   "metadata": {},
   "source": [
    "---"
   ]
  },
  {
   "cell_type": "markdown",
   "metadata": {},
   "source": [
    "For nonlinear models, we assume that at least one of the components of our state-space model (i.e. either the dynamics, the measurement model, or both) is a nonlinear function of the latent state.\n",
    "\n",
    "Consider nonlinear functions $f: \\mathbb{R}^d \\rightarrow \\mathbb{R}^d$ and $h: \\mathbb{R}^d \\rightarrow \\mathbb{R}^m$ where $d$ is the dimension of the latent state and\n",
    "$m$ is the dimension of the measurements.\n",
    "\n",
    "For $k = 1, \\dots, K$ and $x_0 \\sim \\mathcal{N}(\\mu_0, \\Sigma_0)$:\n",
    "\n",
    "$$\n",
    "\\begin{align}\n",
    "    \\boldsymbol{x}_k &\\sim \\mathcal{N}(f(\\boldsymbol{x}_{k-1}), \\boldsymbol{Q}) \\\\\n",
    "    \\boldsymbol{y}_k &\\sim \\mathcal{N}(h(\\boldsymbol{x}_k), \\boldsymbol{R})\n",
    "\\end{align}\n",
    "$$\n",
    "\n",
    "This defines a dynamics model that assumes a state $x_k$ in a **discrete** sequence of states arising from a nonlinear map of the previous state $x_{k-1}$ corrupted with additive Gaussian noise under a **process noise** covariance matrix $Q$.  \n",
    "Similarly, the measurements $y_k$ are assumed to be nonlinear transformations of the latent state under additive Gaussian noise according to a **measurement noise** covariance $R$.\n",
    "In the described case, we cannot use the Kalman Filtering equations since these assume linear relationships. One method is to linearise the nonlinear parts of the model by a first-order Taylor Expansion (Extended Kalman Filter, EKF) or employing the Unscented Kalman Filter (UKF) which is based on the unscented transform and does not require the computation of a Jacobian.\n",
    "The `probnum` packages provides both methods by wrapping linearizing \"Components\" around nonlinear dynamcis and/or measurement models, as we will see below.\n",
    "\n",
    "Note that this can be generalized to a nonlinear time-varying state-space model, as well. Then we would have $f: \\mathbb{T} \\times \\mathbb{R}^d \\rightarrow \\mathbb{R}^d$ and $h: \\mathbb{T} \\times \\mathbb{R}^d \\rightarrow \\mathbb{R}^m$ where $\\mathbb{T}$ is the \"time dimension\"."
   ]
  },
  {
   "cell_type": "markdown",
   "metadata": {},
   "source": [
    "### Define State-Space Model"
   ]
  },
  {
   "cell_type": "markdown",
   "metadata": {},
   "source": [
    "#### I. Discrete Dynamics Model: Nonlinear Gaussian Transitions"
   ]
  },
  {
   "cell_type": "code",
   "execution_count": null,
   "metadata": {},
   "outputs": [],
   "source": [
    "state_dim = 2\n",
    "observation_dim = 1"
   ]
  },
  {
   "cell_type": "code",
   "execution_count": null,
   "metadata": {},
   "outputs": [],
   "source": [
    "# approx. gravitational constant\n",
    "g = 9.81\n",
    "# dt\n",
    "delta_t = 0.0075\n",
    "\n",
    "\n",
    "def pendulum_rhs(state):\n",
    "    \"\"\"Right-hand side of an ODE that defines pendulum dynamics\"\"\"\n",
    "    x1, x2 = state\n",
    "    y1 = x1 + x2 * delta_t\n",
    "    y2 = x2 - g * np.sin(x1) * delta_t\n",
    "    return np.array([y1, y2])\n",
    "\n",
    "\n",
    "def pendulum_jacobian(state):\n",
    "    \"\"\"Jacobian of the pendulum ODE\"\"\"\n",
    "    x1, x2 = state\n",
    "    dy1_dx = [1.0, delta_t]\n",
    "    dy2_dx = [-g * np.cos(x1) * delta_t, 1.0]\n",
    "    return np.array([dy1_dx, dy2_dx])\n",
    "\n",
    "\n",
    "dynamics_transition_function = lambda t, state: pendulum_rhs(state)\n",
    "dynamics_transition_jacobian_function = lambda t, state: pendulum_jacobian(state)\n",
    "\n",
    "dynamics_diffusion_matrix = 1.0 * (\n",
    "    np.diag(np.array([delta_t ** 3 / 3, delta_t]))\n",
    "    + np.diag(np.array([delta_t ** 2 / 2]), 1)\n",
    "    + np.diag(np.array([delta_t ** 2 / 2]), -1)\n",
    ")"
   ]
  },
  {
   "cell_type": "markdown",
   "metadata": {},
   "source": [
    "We here define the non-linear dynamics of a pendulum. Note (in the cell directly above) that `probnum` expects `dynamicsfun` to be a function of time and state. Even though we here consider a nonlinear but time-**in**variant model, we still have to fulfill the contract that the interface requires. \n",
    "```python\n",
    "dynamics_transition_function = lambda t, state: pendulum_rhs(state)\n",
    "```\n",
    "In other words, we simply ignore the time variable `t` in case of time-invariant models."
   ]
  },
  {
   "cell_type": "markdown",
   "metadata": {},
   "source": [
    "To create a discrete, (non-linear) Gaussian dynamics model, `probnum` provides the `DiscreteGaussian` class that takes\n",
    "- `input_dim` and `output_dim`\n",
    "- `state_trans_fun` : the function that returns the next state given the current one\n",
    "- `proc_noise_cov_mat_fun` : the function that returns the covariance matrix of the Gaussian process noise \n",
    "- `jacob_state_trans_fun` : the function that returns the Jacobian matrix of the state transition function"
   ]
  },
  {
   "cell_type": "code",
   "execution_count": null,
   "metadata": {},
   "outputs": [],
   "source": [
    "# Create discrete, non-linear Gaussian dynamics model\n",
    "dynamics_model = statespace.DiscreteGaussian(\n",
    "    input_dim=state_dim,\n",
    "    output_dim=state_dim,\n",
    "    state_trans_fun=dynamics_transition_function,\n",
    "    proc_noise_cov_mat_fun=lambda t: dynamics_diffusion_matrix,\n",
    "    jacob_state_trans_fun=dynamics_transition_jacobian_function,\n",
    ")"
   ]
  },
  {
   "cell_type": "markdown",
   "metadata": {},
   "source": [
    "#### II. Discrete Measurement Model: Nonlinear Gaussian Measurements"
   ]
  },
  {
   "cell_type": "code",
   "execution_count": null,
   "metadata": {},
   "outputs": [],
   "source": [
    "def pendulum_measurement(state):\n",
    "    x1, x2 = state\n",
    "    return np.array([np.sin(x1)])\n",
    "\n",
    "\n",
    "def pendulum_measurement_jacobian(state):\n",
    "    x1, x2 = state\n",
    "    return np.array([[np.cos(x1), 0.0]])\n",
    "\n",
    "\n",
    "measurement_function = lambda t, state: pendulum_measurement(state)\n",
    "measurement_jacobian_function = lambda t, state: pendulum_measurement_jacobian(state)\n",
    "\n",
    "measurement_variance = 0.32 ** 2\n",
    "measurement_covariance = measurement_variance * np.eye(observation_dim)"
   ]
  },
  {
   "cell_type": "code",
   "execution_count": null,
   "metadata": {},
   "outputs": [],
   "source": [
    "# Create discrete, non-linear Gaussian measurement model\n",
    "measurement_model = statespace.DiscreteGaussian(\n",
    "    input_dim=state_dim,\n",
    "    output_dim=observation_dim,\n",
    "    state_trans_fun=measurement_function,\n",
    "    proc_noise_cov_mat_fun=lambda t: measurement_covariance,\n",
    "    jacob_state_trans_fun=measurement_jacobian_function,\n",
    ")"
   ]
  },
  {
   "cell_type": "markdown",
   "metadata": {},
   "source": [
    "#### III. Initial State Random Variable"
   ]
  },
  {
   "cell_type": "code",
   "execution_count": null,
   "metadata": {},
   "outputs": [],
   "source": [
    "mu_0 = np.ones(state_dim)\n",
    "sigma_0 = measurement_variance * np.eye(state_dim)\n",
    "initial_state_rv = randvars.Normal(mean=mu_0, cov=sigma_0)"
   ]
  },
  {
   "cell_type": "markdown",
   "metadata": {},
   "source": [
    "### Generate Data for the State-Space Model"
   ]
  },
  {
   "cell_type": "markdown",
   "metadata": {},
   "source": [
    "`statespace.generate_samples()` is used to sample both latent states and noisy observations from the specified state space model."
   ]
  },
  {
   "cell_type": "code",
   "execution_count": null,
   "metadata": {},
   "outputs": [],
   "source": [
    "time_grid = np.arange(0., 20., step=delta_t)"
   ]
  },
  {
   "cell_type": "code",
   "execution_count": null,
   "metadata": {},
   "outputs": [],
   "source": [
    "latent_states, observations = statespace.generate_samples(\n",
    "    dynmod=dynamics_model,\n",
    "    measmod=measurement_model,\n",
    "    initrv=initial_state_rv,\n",
    "    times=time_grid\n",
    ")"
   ]
  },
  {
   "cell_type": "markdown",
   "metadata": {},
   "source": [
    "### Kalman Filtering"
   ]
  },
  {
   "cell_type": "markdown",
   "metadata": {},
   "source": [
    "#### I. Linearize model (Extended Kalman Filter)"
   ]
  },
  {
   "cell_type": "markdown",
   "metadata": {},
   "source": [
    "Since we could easily derive the Jacobian of our nonlinear model components above, we can use the Extended Kalman Filter (EKF) to obtain a filtering posterior over the states. Therefore, in `probnum` we just wrap the dynamics model and the measurement model in a `DiscreteEKFComponent` object.\n",
    "In cases in which the Jacobian is not as easy to write down, `probnum` also provides the `DiscreteUKFComponent` class that implements the linearization by means of an\n",
    "_unscented Kalman filter_ that does not require a Jacobian.\n",
    "Alternatively, the Jacobian can be calculated via automatic differentiation."
   ]
  },
  {
   "cell_type": "code",
   "execution_count": null,
   "metadata": {},
   "outputs": [],
   "source": [
    "linearised_dynamics_model = filtsmooth.DiscreteEKFComponent(dynamics_model)\n",
    "linearised_measurement_model = filtsmooth.DiscreteEKFComponent(measurement_model)"
   ]
  },
  {
   "cell_type": "markdown",
   "metadata": {},
   "source": [
    "#### II. Kalman Filter"
   ]
  },
  {
   "cell_type": "markdown",
   "metadata": {},
   "source": [
    "Then, we simply pass these linearized models to the Kalman Filter (exactly the same interface as in the linear case) and proceed."
   ]
  },
  {
   "cell_type": "code",
   "execution_count": null,
   "metadata": {},
   "outputs": [],
   "source": [
    "kalman_filter = filtsmooth.Kalman(\n",
    "    dynamics_model=linearised_dynamics_model,\n",
    "    measurement_model=linearised_measurement_model,\n",
    "    initrv=initial_state_rv\n",
    ")"
   ]
  },
  {
   "cell_type": "markdown",
   "metadata": {},
   "source": [
    "#### III. Perform Kalman Filtering + Rauch-Tung-Striebel Smoothing"
   ]
  },
  {
   "cell_type": "code",
   "execution_count": null,
   "metadata": {},
   "outputs": [],
   "source": [
    "state_posterior = kalman_filter.filtsmooth(\n",
    "    dataset=observations,\n",
    "    times=time_grid,\n",
    ")"
   ]
  },
  {
   "cell_type": "markdown",
   "metadata": {},
   "source": [
    "The method `filtsmooth` returns a `KalmanPosterior` object which provides convenience functions for e.g. sampling and interpolation.\n",
    "We can also extract the just computed posterior smoothing state variables by querying the `.state_rvs` property.  \n",
    "This yields a list of Gaussian Random Variables from which we can extract the statistics in order to visualize them."
   ]
  },
  {
   "cell_type": "code",
   "execution_count": null,
   "metadata": {},
   "outputs": [],
   "source": [
    "posterior_state_rvs = state_posterior.states          # List of <num_time_points> Normal Random Variables\n",
    "posterior_state_means = posterior_state_rvs.mean      # Shape: (num_time_points, state_dim)\n",
    "posterior_state_covs = posterior_state_rvs.cov        # Shape: (num_time_points, state_dim, state_dim)"
   ]
  },
  {
   "cell_type": "markdown",
   "metadata": {},
   "source": [
    "### Visualize Results"
   ]
  },
  {
   "cell_type": "code",
   "execution_count": null,
   "metadata": {},
   "outputs": [],
   "source": [
    "state_fig = plt.figure()\n",
    "state_fig_gs = gridspec.GridSpec(ncols=2, nrows=1, figure=state_fig)\n",
    "\n",
    "ax_00 = state_fig.add_subplot(state_fig_gs[0, 0])\n",
    "ax_01 = state_fig.add_subplot(state_fig_gs[0, 1])\n",
    "\n",
    "# Plot means\n",
    "mu_x_1, mu_x_2 = [posterior_state_means[:, i] for i in range(state_dim)]\n",
    "\n",
    "ax_00.plot(time_grid, mu_x_1, label=\"posterior mean\")\n",
    "ax_01.plot(time_grid, mu_x_2)\n",
    "\n",
    "# Plot marginal standard deviations\n",
    "std_x_1, std_x_2 = [np.sqrt(posterior_state_covs[:, i, i]) for i in range(state_dim)]\n",
    "\n",
    "ax_00.fill_between(\n",
    "    time_grid,\n",
    "    mu_x_1 - 1.96 * std_x_1,\n",
    "    mu_x_1 + 1.96 * std_x_1,\n",
    "    alpha=0.2,\n",
    "    label=\"1.96 marginal stddev\",\n",
    ")\n",
    "ax_01.fill_between(\n",
    "    time_grid, mu_x_2 - 1.96 * std_x_2, mu_x_2 + 1.96 * std_x_2, alpha=0.2\n",
    ")\n",
    "\n",
    "# Plot groundtruth\n",
    "\n",
    "ax_00.scatter(time_grid, observations, marker=\".\", label=\"measurements\")\n",
    "\n",
    "# Add labels etc.\n",
    "ax_00.set_xlabel(\"t\")\n",
    "ax_01.set_xlabel(\"t\")\n",
    "\n",
    "ax_00.set_title(r\"$x_1$\")\n",
    "ax_01.set_title(r\"$x_2$\")\n",
    "\n",
    "state_fig.legend(\n",
    "    *ax_00.get_legend_handles_labels(), loc=\"center left\", bbox_to_anchor=(1, 0.5)\n",
    ")\n",
    "\n",
    "state_fig.tight_layout()"
   ]
  },
  {
   "cell_type": "markdown",
   "metadata": {},
   "source": [
    "## 2. **Non-Linear Continuous-Discrete** State-Space Model: Benes-Daum Filter"
   ]
  },
  {
   "cell_type": "markdown",
   "metadata": {},
   "source": [
    "---"
   ]
  },
  {
   "cell_type": "markdown",
   "metadata": {},
   "source": [
    "Now, consider we assume **continuous** dynamics. We assume that there is a continuous process that defines the nonlinear dynamics of our latent space from which we collect discrete nonlinear-Gaussian measurements (as above). Only the dynamics model changes. In particular, we formulate the dynamics as a stochastic process in terms of a Nonlinear Time-Invariant Stochastic Differential Equation. We refer to [1] for more details.\n",
    "Again, consider non-linear functions $f: \\mathbb{R}^d \\rightarrow \\mathbb{R}^d$ and $h: \\mathbb{R}^d \\rightarrow \\mathbb{R}^m$ where $d$ is the dimension of the latent state and\n",
    "$m$ is the dimension of the measurements.\n",
    "We define the following nonlinear **continuous-discrete** state-space model:\n",
    "\n",
    "Let $x(t_0) \\sim \\mathcal{N}(\\mu_0, \\Sigma_0)$.\n",
    "\n",
    "$$\n",
    "\\begin{align}\n",
    "    d\\boldsymbol{x} &= f(\\boldsymbol{x}) \\, dt + \\boldsymbol{L} \\, d \\boldsymbol{\\omega} \\\\\n",
    "    \\boldsymbol{y}_k &\\sim \\mathcal{N}(h(\\boldsymbol{x}(t_k)), \\boldsymbol{R}), \\qquad k = 1, \\dots, K\n",
    "\\end{align}\n",
    "$$\n",
    "\n",
    "where $\\boldsymbol{\\omega}$ denotes a vector of driving forces (often Brownian Motion).\n",
    "\n",
    "\n",
    "Note that this can be generalized to a nonlinear time-varying state-space model, as well. Then we would have $f: \\mathbb{T} \\times \\mathbb{R}^d \\rightarrow \\mathbb{R}^d$ and $h: \\mathbb{T} \\times \\mathbb{R}^d \\rightarrow \\mathbb{R}^m$ where $\\mathbb{T}$ is the \"time dimension\"."
   ]
  },
  {
   "cell_type": "markdown",
   "metadata": {},
   "source": [
    "### Define State-Space Model"
   ]
  },
  {
   "cell_type": "markdown",
   "metadata": {},
   "source": [
    "#### I. Continuous Dynamics Model: Nonlinear Stochastic Differential Equation"
   ]
  },
  {
   "cell_type": "code",
   "execution_count": null,
   "metadata": {},
   "outputs": [],
   "source": [
    "state_dim = 1\n",
    "observation_dim = 1"
   ]
  },
  {
   "cell_type": "code",
   "execution_count": null,
   "metadata": {},
   "outputs": [],
   "source": [
    "drift_function = lambda t, state: np.tanh(state)\n",
    "drift_function_jacobian = lambda t, state: 1.0 - np.tanh(state) ** 2\n",
    "\n",
    "dispersion_matrix_function = lambda t: np.ones(state_dim).reshape(1, 1)"
   ]
  },
  {
   "cell_type": "markdown",
   "metadata": {},
   "source": [
    "For continous, non-linear dynamics, `probnum` provides a general stochastic differential equation (SDE) interface that takes\n",
    "- `driftfun`: a (possibly non-linear) drift function,\n",
    "- `dispmatfun`: a (possibly non-linear) dispersion function, \n",
    "- `jacobfun`: the Jacobian of the drift function."
   ]
  },
  {
   "cell_type": "code",
   "execution_count": null,
   "metadata": {},
   "outputs": [],
   "source": [
    "# Create continuous, non-linear SDE dynamics model\n",
    "dynamics_model = statespace.SDE(\n",
    "    dimension=state_dim,\n",
    "    driftfun=drift_function,\n",
    "    dispmatfun=dispersion_matrix_function,\n",
    "    jacobfun=drift_function_jacobian,\n",
    ")"
   ]
  },
  {
   "cell_type": "markdown",
   "metadata": {},
   "source": [
    "#### II. Discrete Measurement Model: Linear, Time-Invariant, Gaussian Measurements"
   ]
  },
  {
   "cell_type": "code",
   "execution_count": null,
   "metadata": {},
   "outputs": [],
   "source": [
    "measurement_marginal_variance = 1.0\n",
    "measurement_matrix = np.eye(observation_dim, state_dim)\n",
    "measurement_noise_matrix = measurement_marginal_variance * np.eye(observation_dim)"
   ]
  },
  {
   "cell_type": "code",
   "execution_count": null,
   "metadata": {},
   "outputs": [],
   "source": [
    "measurement_model = statespace.DiscreteLTIGaussian(\n",
    "    state_trans_mat=measurement_matrix,\n",
    "    shift_vec=np.zeros(observation_dim),\n",
    "    proc_noise_cov_mat=measurement_noise_matrix,\n",
    ")"
   ]
  },
  {
   "cell_type": "markdown",
   "metadata": {},
   "source": [
    "#### III. Initial State Random Variable"
   ]
  },
  {
   "cell_type": "code",
   "execution_count": null,
   "metadata": {},
   "outputs": [],
   "source": [
    "mu_0 = np.zeros(state_dim)\n",
    "sigma_0 = 3.0 * np.eye(state_dim)\n",
    "initial_state_rv = randvars.Normal(mean=mu_0, cov=sigma_0)"
   ]
  },
  {
   "cell_type": "markdown",
   "metadata": {},
   "source": [
    "### Generate Data for the State-Space Model"
   ]
  },
  {
   "cell_type": "markdown",
   "metadata": {},
   "source": [
    "`statespace.generate_samples()` is used to sample both latent states and noisy observations from the specified state space model."
   ]
  },
  {
   "cell_type": "code",
   "execution_count": null,
   "metadata": {},
   "outputs": [],
   "source": [
    "time_grid = np.arange(0.0, 20.0, step=delta_t)"
   ]
  },
  {
   "cell_type": "code",
   "execution_count": null,
   "metadata": {},
   "outputs": [],
   "source": [
    "linearised_dynamics_model = filtsmooth.ContinuousEKFComponent(dynamics_model)"
   ]
  },
  {
   "cell_type": "code",
   "execution_count": null,
   "metadata": {},
   "outputs": [],
   "source": [
    "latent_states, observations = statespace.generate_samples(\n",
    "    dynmod=linearised_dynamics_model,\n",
    "    measmod=measurement_model,\n",
    "    initrv=initial_state_rv,\n",
    "    times=time_grid,\n",
    ")"
   ]
  },
  {
   "cell_type": "markdown",
   "metadata": {},
   "source": [
    "### Kalman Filtering"
   ]
  },
  {
   "cell_type": "markdown",
   "metadata": {},
   "source": [
    "#### I. Linearize model (Extended Kalman Filter)"
   ]
  },
  {
   "cell_type": "markdown",
   "metadata": {},
   "source": [
    "#### II. Kalman Filter"
   ]
  },
  {
   "cell_type": "code",
   "execution_count": null,
   "metadata": {},
   "outputs": [],
   "source": [
    "kalman_filter = filtsmooth.Kalman(\n",
    "    dynamics_model=linearised_dynamics_model,\n",
    "    measurement_model=measurement_model,\n",
    "    initrv=initial_state_rv,\n",
    ")"
   ]
  },
  {
   "cell_type": "markdown",
   "metadata": {},
   "source": [
    "#### III. Perform Kalman Filtering + Rauch-Tung-Striebel Smoothing"
   ]
  },
  {
   "cell_type": "code",
   "execution_count": null,
   "metadata": {},
   "outputs": [],
   "source": [
    "# filtering\n",
    "state_posterior = kalman_filter.filter(\n",
    "    dataset=observations,\n",
    "    times=time_grid,\n",
    ")"
   ]
  },
  {
   "cell_type": "code",
   "execution_count": null,
   "metadata": {},
   "outputs": [],
   "source": [
    "# smoothing\n",
    "smoothed_state_posterior = kalman_filter.smooth(\n",
    "    filter_posterior=state_posterior\n",
    ")"
   ]
  },
  {
   "cell_type": "markdown",
   "metadata": {},
   "source": [
    "The method `filtsmooth` returns a `KalmanPosterior` object which provides convenience functions for e.g. sampling and prediction.\n",
    "We can also extract the just computed posterior smoothing state variables by querying the `.state_rvs` property.  \n",
    "This yields a list of Gaussian Random Variables from which we can extract the statistics in order to visualize them."
   ]
  },
  {
   "cell_type": "code",
   "execution_count": null,
   "metadata": {},
   "outputs": [],
   "source": [
    "posterior_state_rvs = state_posterior.states                    # List of <num_time_points> Normal Random Variables\n",
    "posterior_state_means = posterior_state_rvs.mean.squeeze()      # Shape: (num_time_points, state_dim)\n",
    "posterior_state_covs = posterior_state_rvs.cov                  # Shape: (num_time_points, state_dim, state_dim)"
   ]
  },
  {
   "cell_type": "code",
   "execution_count": null,
   "metadata": {},
   "outputs": [],
   "source": [
    "smoothed_posterior_state_rvs = smoothed_state_posterior.states   # List of <num_time_points> Normal Random Variables\n",
    "smoothed_posterior_state_means = smoothed_posterior_state_rvs.mean.squeeze() # Shape: (num_time_points, state_dim)\n",
    "smoothed_posterior_state_covs = smoothed_posterior_state_rvs.cov # Shape: (num_time_points, state_dim, state_dim)"
   ]
  },
  {
   "cell_type": "markdown",
   "metadata": {},
   "source": [
    "### Visualize Results"
   ]
  },
  {
   "cell_type": "code",
   "execution_count": null,
   "metadata": {
    "tags": [
     "nbsphinx-thumbnail"
    ]
   },
   "outputs": [],
   "source": [
    "state_fig = plt.figure()\n",
    "\n",
    "ax = state_fig.add_subplot()\n",
    "\n",
    "# Plot means\n",
    "ax.plot(time_grid, posterior_state_means, label=\"posterior mean\")\n",
    "\n",
    "# Plot marginal standard deviations\n",
    "std_x = np.sqrt(posterior_state_covs).squeeze()\n",
    "ax.fill_between(\n",
    "    time_grid,\n",
    "    posterior_state_means - 1.96 * std_x,\n",
    "    posterior_state_means + 1.96 * std_x,\n",
    "    alpha=0.2,\n",
    "    label=\"1.96 marginal stddev for filter\",\n",
    ")\n",
    "\n",
    "# Plot smoothed means\n",
    "ax.plot(time_grid, smoothed_posterior_state_means, label=\"smoothed posterior mean\")\n",
    "\n",
    "# Plot marginal standard deviations\n",
    "std_x = np.sqrt(smoothed_posterior_state_covs).squeeze()\n",
    "ax.fill_between(\n",
    "    time_grid,\n",
    "    smoothed_posterior_state_means - 1.96 * std_x,\n",
    "    smoothed_posterior_state_means + 1.96 * std_x,\n",
    "    alpha=0.2,\n",
    "    label=\"1.96 marginal stddev for smoother\",\n",
    ")\n",
    "\n",
    "ax.scatter(time_grid, observations, marker=\".\", label=\"measurements\")\n",
    "\n",
    "# Add labels etc.\n",
    "ax.set_xlabel(\"t\")\n",
    "ax.set_title(r\"$x$\")\n",
    "ax.legend()\n",
    "\n",
    "state_fig.tight_layout()"
   ]
  },
  {
   "cell_type": "markdown",
   "metadata": {},
   "source": [
    "To get a closer look at filter and smoother, we inspect the interval $[0, t_0]$ with $t_0=1$ in greater detail."
   ]
  },
  {
   "cell_type": "code",
   "execution_count": null,
   "metadata": {},
   "outputs": [],
   "source": [
    "t_0 = 1\n",
    "idx = time_grid < t_0\n",
    "\n",
    "ax.set_xlim(0, t_0)\n",
    "ax.set_ylim(np.min(observations[idx]), np.max(observations[idx]))\n",
    "\n",
    "state_fig.tight_layout()\n",
    "state_fig"
   ]
  },
  {
   "cell_type": "code",
   "execution_count": null,
   "metadata": {},
   "outputs": [],
   "source": []
  }
 ],
 "metadata": {
  "celltoolbar": "Edit Metadata",
  "kernelspec": {
   "display_name": "Python 3.9 (ProbNum)",
   "language": "python",
   "name": "probnum_test"
  },
  "language_info": {
   "codemirror_mode": {
    "name": "ipython",
    "version": 3
   },
   "file_extension": ".py",
   "mimetype": "text/x-python",
   "name": "python",
   "nbconvert_exporter": "python",
   "pygments_lexer": "ipython3",
   "version": "3.9.2"
  }
 },
 "nbformat": 4,
 "nbformat_minor": 4
}
